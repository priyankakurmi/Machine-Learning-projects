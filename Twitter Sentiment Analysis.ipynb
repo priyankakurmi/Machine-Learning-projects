{
 "cells": [
  {
   "cell_type": "code",
   "execution_count": 1,
   "metadata": {},
   "outputs": [],
   "source": [
    "import numpy as np\n",
    "import pandas as pd"
   ]
  },
  {
   "cell_type": "code",
   "execution_count": 2,
   "metadata": {},
   "outputs": [],
   "source": [
    "train_data=pd.read_csv('training_twitter.csv',delimiter=',',skipinitialspace=True)"
   ]
  },
  {
   "cell_type": "code",
   "execution_count": 3,
   "metadata": {},
   "outputs": [],
   "source": [
    "train_data.drop([\"tweet_id\",\"airline\",\"airline_sentiment_gold\",\"name\",\"negativereason_gold\",\"retweet_count\",\"tweet_coord\",\"tweet_created\",\"tweet_location\",\"user_timezone\"],inplace=True,axis=1)"
   ]
  },
  {
   "cell_type": "code",
   "execution_count": 4,
   "metadata": {},
   "outputs": [],
   "source": [
    "y_train=[]\n",
    "for i in train_data[\"airline_sentiment\"]:\n",
    "    y_train.append(i)\n",
    "x_train=[]\n",
    "for j in train_data[\"text\"]:\n",
    "    x_train.append(j)"
   ]
  },
  {
   "cell_type": "code",
   "execution_count": 5,
   "metadata": {},
   "outputs": [],
   "source": [
    "def get_simple_pos(tag):\n",
    "    if tag.startswith('J'):\n",
    "        return wordnet.ADJ\n",
    "    elif tag.startswith('V'):\n",
    "        return wordnet.VERB\n",
    "    elif tag.startswith('N'):\n",
    "        return wordnet.NOUN\n",
    "    elif tag.startswith('R'):\n",
    "        return wordnet.ADV\n",
    "    else:\n",
    "        return wordnet.NOUN"
   ]
  },
  {
   "cell_type": "code",
   "execution_count": 6,
   "metadata": {},
   "outputs": [],
   "source": [
    "from nltk.tokenize import word_tokenize\n",
    "from nltk.corpus import stopwords\n",
    "import string\n",
    "from nltk.stem import WordNetLemmatizer\n",
    "from nltk.corpus import wordnet\n",
    "from nltk import pos_tag\n",
    "stop= stopwords.words('english')\n",
    "punctuations=list(string.punctuation)\n",
    "stop=stop+punctuations\n",
    "lemmatizer= WordNetLemmatizer()"
   ]
  },
  {
   "cell_type": "code",
   "execution_count": 7,
   "metadata": {},
   "outputs": [],
   "source": [
    "def data_cleaning(data):\n",
    "   clean_data=[]\n",
    "   for i in range (len(data)):\n",
    "      words=word_tokenize(data[i].lower())\n",
    "      #remove_stopwords=[w for w in words if not w in stop]\n",
    "      clean=[]\n",
    "      for w in words:\n",
    "         if w.lower() not in stop:\n",
    "            pos=pos_tag([w])\n",
    "            clean_words=lemmatizer.lemmatize(w,pos=get_simple_pos(pos[0][1]))\n",
    "            clean.append(clean_words.lower())\n",
    "      clean_data.append(clean)\n",
    "   return clean_data"
   ]
  },
  {
   "cell_type": "code",
   "execution_count": 8,
   "metadata": {},
   "outputs": [],
   "source": [
    "train_clean_data = data_cleaning(x_train)\n",
    "train_documents=[\" \".join(document) for document in train_clean_data]"
   ]
  },
  {
   "cell_type": "code",
   "execution_count": 9,
   "metadata": {},
   "outputs": [],
   "source": [
    "test_data=pd.read_csv('test_twitter.csv',delimiter=',',skipinitialspace=True)\n",
    "test_data.drop([\"tweet_id\",\"airline\",\"airline_sentiment_gold\",\"name\",\"negativereason_gold\",\"retweet_count\",\"tweet_coord\",\"tweet_created\",\"tweet_location\",\"user_timezone\"],inplace=True,axis=1)\n",
    "x_test=[]\n",
    "for j in test_data[\"text\"]:\n",
    "    x_test.append(j)\n",
    "\n",
    "test_clean_data = data_cleaning (x_test)\n",
    "test_documents=[\" \".join(document)for document in test_clean_data]"
   ]
  },
  {
   "cell_type": "code",
   "execution_count": 28,
   "metadata": {},
   "outputs": [],
   "source": [
    "from sklearn.feature_extraction.text import CountVectorizer\n",
    "count_vector = CountVectorizer (max_features=50000)\n",
    "x_train_features=count_vector.fit_transform(train_documents)\n",
    "x_test_features=count_vector.transform(test_documents)"
   ]
  },
  {
   "cell_type": "code",
   "execution_count": 39,
   "metadata": {},
   "outputs": [],
   "source": [
    "from sklearn.naive_bayes import MultinomialNB\n",
    "from sklearn.metrics import confusion_matrix, classification_report \n",
    "alg=MultinomialNB()\n",
    "alg.fit (x_train_features,y_train)\n",
    "y_predict = alg.predict (x_test_features)\n",
    "np.savetxt(\"twitter.csv\",y_predict, fmt = '%s')\n",
    "#print(confusion_matrix(y_test,y_predict))\n",
    "#print(classification_matrix(y_test,y_predict))"
   ]
  },
  {
   "cell_type": "code",
   "execution_count": 40,
   "metadata": {},
   "outputs": [
    {
     "data": {
      "text/plain": [
       "0.8424408014571949"
      ]
     },
     "execution_count": 40,
     "metadata": {},
     "output_type": "execute_result"
    }
   ],
   "source": [
    "alg.score(x_train_features,y_train)"
   ]
  }
 ],
 "metadata": {
  "kernelspec": {
   "display_name": "Python 3",
   "language": "python",
   "name": "python3"
  },
  "language_info": {
   "codemirror_mode": {
    "name": "ipython",
    "version": 3
   },
   "file_extension": ".py",
   "mimetype": "text/x-python",
   "name": "python",
   "nbconvert_exporter": "python",
   "pygments_lexer": "ipython3",
   "version": "3.7.3"
  }
 },
 "nbformat": 4,
 "nbformat_minor": 2
}
